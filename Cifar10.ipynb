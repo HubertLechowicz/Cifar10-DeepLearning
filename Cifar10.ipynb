{
  "cells": [
    {
      "cell_type": "markdown",
      "metadata": {
        "id": "fLftzvCsvBwc"
      },
      "source": [
        "# Image Classification with CIFAR-10 dataset\n",
        "In this notebook, I am going to classify images from the [CIFAR-10 dataset](https://www.cs.toronto.edu/~kriz/cifar.html).  The dataset consists of airplanes, dogs, cats, and other objects. You'll preprocess the images, then train a convolutional neural network on all the samples. The images need to be normalized and the labels need to be one-hot encoded. \n",
        "\n",
        "\n",
        "\n",
        "## Get the Data\n",
        "Run the following cell to download the [CIFAR-10 dataset for python](https://www.cs.toronto.edu/~kriz/cifar-10-python.tar.gz).\n",
        "\n",
        "### List of files \n",
        "\n",
        "the dataset is broken into batches to **prevent** your machine from running **out of memory**. The CIFAR-10 dataset consists of 5 batches, named `data_batch_1`, `data_batch_2`, etc..\n",
        "\n",
        "\n",
        "### Understanding the original data \n",
        "\n",
        " In order to feed an image data into a CNN model, the dimension of the tensor representing an image data should be either (width x height x num_channel) or (num_channel x width x height). I am going to use the dimension of the first choice because the default choice in tensorflow's CNN operation is so.\n",
        "\n",
        "\n",
        "### Understanding the original labels\n",
        "\n",
        "The label data is just a list of 10000 numbers in the range 0-9, which corresponds to each of the 10 classes in CIFAR-10. \n",
        "\n",
        "* **airplane**\n",
        "* **automobile**\n",
        "* **bird**\n",
        "* **cat**\n",
        "* **deer**\n",
        "* **dog**\n",
        "* **frog**\n",
        "* **horse**\n",
        "* **ship**\n",
        "* **truck**\n",
        "\n",
        "\n"
      ]
    },
    {
      "cell_type": "code",
      "execution_count": 1,
      "metadata": {
        "colab": {
          "base_uri": "https://localhost:8080/"
        },
        "id": "-QFAMthBu9WF",
        "outputId": "d425b65c-611e-4c67-bf64-e1538940a217"
      },
      "outputs": [
        {
          "output_type": "stream",
          "name": "stderr",
          "text": [
            "CIFAR-10 Dataset: 171MB [00:02, 68.1MB/s]                           \n"
          ]
        }
      ],
      "source": [
        "from urllib.request import urlretrieve\n",
        "from os.path import isfile, isdir\n",
        "from tqdm import tqdm \n",
        "import tarfile\n",
        "\n",
        "cifar10_dataset_folder_path = 'cifar-10-batches-py'\n",
        "\n",
        "class DownloadProgress(tqdm):\n",
        "    last_block = 0\n",
        "\n",
        "    def hook(self, block_num=1, block_size=1, total_size=None):\n",
        "        self.total = total_size\n",
        "        self.update((block_num - self.last_block) * block_size)\n",
        "        self.last_block = block_num\n",
        "\n",
        "\"\"\" \n",
        "    check if the data (zip) file is already downloaded\n",
        "    if not, download it from \"https://www.cs.toronto.edu/~kriz/cifar-10-python.tar.gz\" and save as cifar-10-python.tar.gz\n",
        "\"\"\"\n",
        "if not isfile('cifar-10-python.tar.gz'):\n",
        "    with DownloadProgress(unit='B', unit_scale=True, miniters=1, desc='CIFAR-10 Dataset') as pbar:\n",
        "        urlretrieve(\n",
        "            'https://www.cs.toronto.edu/~kriz/cifar-10-python.tar.gz',\n",
        "            'cifar-10-python.tar.gz',\n",
        "            pbar.hook)\n",
        "\n",
        "if not isdir(cifar10_dataset_folder_path):\n",
        "    with tarfile.open('cifar-10-python.tar.gz') as tar:\n",
        "        tar.extractall()\n",
        "        tar.close()\n"
      ]
    },
    {
      "cell_type": "code",
      "execution_count": 3,
      "metadata": {
        "id": "ORISFLIevRbp"
      },
      "outputs": [],
      "source": [
        "def load_cfar10_batch(cifar10_dataset_folder_path, batch_id):\n",
        "    with open(cifar10_dataset_folder_path + '/data_batch_' + str(batch_id), mode='rb') as file:\n",
        "        # note the encoding type is 'latin1'\n",
        "        batch = pickle.load(file, encoding='latin1')\n",
        "        \n",
        "    features = batch['data'].reshape((len(batch['data']), 3, 32, 32)).transpose(0, 2, 3, 1)\n",
        "    labels = batch['labels']\n",
        "        \n",
        "    return features, labels\n",
        "\n",
        "def load_label_names():\n",
        "    return ['airplane', 'automobile', 'bird', 'cat', 'deer', 'dog', 'frog', 'horse', 'ship', 'truck']\n",
        "\n",
        "def display_stats(cifar10_dataset_folder_path, batch_id, sample_id):\n",
        "    features, labels = load_cfar10_batch(cifar10_dataset_folder_path, batch_id)\n",
        "    \n",
        "    if not (0 <= sample_id < len(features)):\n",
        "        print('{} samples in batch {}.  {} is out of range.'.format(len(features), batch_id, sample_id))\n",
        "        return None\n",
        "\n",
        "    print('\\nStats of batch #{}:'.format(batch_id))\n",
        "    print('# of Samples: {}\\n'.format(len(features)))\n",
        "    \n",
        "    label_names = load_label_names()\n",
        "    label_counts = dict(zip(*np.unique(labels, return_counts=True)))\n",
        "    for key, value in label_counts.items():\n",
        "        print('Label Counts of [{}]({}) : {}'.format(key, label_names[key].upper(), value))\n",
        "    \n",
        "    sample_image = features[sample_id]\n",
        "    sample_label = labels[sample_id]\n",
        "    \n",
        "    print('\\nExample of Image {}:'.format(sample_id))\n",
        "    print('Image - Min Value: {} Max Value: {}'.format(sample_image.min(), sample_image.max()))\n",
        "    print('Image - Shape: {}'.format(sample_image.shape))\n",
        "    print('Label - Label Id: {} Name: {}'.format(sample_label, label_names[sample_label]))\n",
        "    \n",
        "    plt.imshow(sample_image)"
      ]
    },
    {
      "cell_type": "code",
      "execution_count": 4,
      "metadata": {
        "colab": {
          "base_uri": "https://localhost:8080/",
          "height": 612
        },
        "id": "1BQ_Yh-bvOPq",
        "outputId": "4640da4d-de2f-4e94-d0d4-9c011509160c"
      },
      "outputs": [
        {
          "output_type": "stream",
          "name": "stdout",
          "text": [
            "\n",
            "Stats of batch #3:\n",
            "# of Samples: 10000\n",
            "\n",
            "Label Counts of [0](AIRPLANE) : 994\n",
            "Label Counts of [1](AUTOMOBILE) : 1042\n",
            "Label Counts of [2](BIRD) : 965\n",
            "Label Counts of [3](CAT) : 997\n",
            "Label Counts of [4](DEER) : 990\n",
            "Label Counts of [5](DOG) : 1029\n",
            "Label Counts of [6](FROG) : 978\n",
            "Label Counts of [7](HORSE) : 1015\n",
            "Label Counts of [8](SHIP) : 961\n",
            "Label Counts of [9](TRUCK) : 1029\n",
            "\n",
            "Example of Image 7000:\n",
            "Image - Min Value: 24 Max Value: 252\n",
            "Image - Shape: (32, 32, 3)\n",
            "Label - Label Id: 0 Name: airplane\n"
          ]
        },
        {
          "output_type": "display_data",
          "data": {
            "image/png": "[encoded data removed]",
            "text/plain": [
              "<Figure size 432x288 with 1 Axes>"
            ]
          },
          "metadata": {
            "image/png": {
              "width": 251,
              "height": 248
            },
            "needs_background": "light"
          }
        }
      ],
      "source": [
        "%matplotlib inline\n",
        "%config InlineBackend.figure_format = 'retina'\n",
        "\n",
        "import numpy as np\n",
        "import pickle\n",
        "import matplotlib.pyplot as plt\n",
        "# Explore the dataset\n",
        "batch_id = 3\n",
        "sample_id = 7000\n",
        "display_stats(cifar10_dataset_folder_path, batch_id, sample_id)"
      ]
    },
    {
      "cell_type": "code",
      "execution_count": 5,
      "metadata": {
        "id": "4ei0l1FNvJYv"
      },
      "outputs": [],
      "source": [
        "import numpy\n",
        "from tensorflow import keras\n",
        "from keras.constraints import maxnorm\n",
        "from keras.utils import np_utils"
      ]
    },
    {
      "cell_type": "code",
      "execution_count": 6,
      "metadata": {
        "id": "xYTc1qJEn3zx"
      },
      "outputs": [],
      "source": [
        "seed = 21"
      ]
    },
    {
      "cell_type": "code",
      "execution_count": 7,
      "metadata": {
        "id": "iE-MAcJ7n5QQ"
      },
      "outputs": [],
      "source": [
        "from keras.datasets import cifar10"
      ]
    },
    {
      "cell_type": "code",
      "execution_count": 8,
      "metadata": {
        "colab": {
          "base_uri": "https://localhost:8080/"
        },
        "id": "rLEFYwrWn5v9",
        "outputId": "8ada6a92-350f-4b9c-b576-4b35ee4cb3fd"
      },
      "outputs": [
        {
          "output_type": "stream",
          "name": "stdout",
          "text": [
            "Downloading data from https://www.cs.toronto.edu/~kriz/cifar-10-python.tar.gz\n",
            "170500096/170498071 [==============================] - 2s 0us/step\n",
            "170508288/170498071 [==============================] - 2s 0us/step\n"
          ]
        }
      ],
      "source": [
        "(X_train, y_train), (X_test, y_test) = cifar10.load_data()"
      ]
    },
    {
      "cell_type": "code",
      "execution_count": 9,
      "metadata": {
        "id": "1IPGqVtPn5tU"
      },
      "outputs": [],
      "source": [
        "X_train = X_train.astype('float32')\n",
        "X_test = X_test.astype('float32')\n",
        "X_train = X_train / 255.0\n",
        "X_test = X_test / 255.0"
      ]
    },
    {
      "cell_type": "code",
      "execution_count": 10,
      "metadata": {
        "id": "G7lHaXEsn5qo"
      },
      "outputs": [],
      "source": [
        "y_train = np_utils.to_categorical(y_train)\n",
        "y_test = np_utils.to_categorical(y_test)\n",
        "class_num = y_test.shape[1]"
      ]
    },
    {
      "cell_type": "code",
      "execution_count": null,
      "metadata": {
        "id": "BHJWFbSVn5Ki"
      },
      "outputs": [],
      "source": [
        "model = keras.Sequential()"
      ]
    },
    {
      "cell_type": "code",
      "execution_count": null,
      "metadata": {
        "colab": {
          "base_uri": "https://localhost:8080/"
        },
        "id": "vTIJgwKVn_3x",
        "outputId": "f6ec60c3-82c5-430a-8505-f51a8031b48a"
      },
      "outputs": [
        {
          "name": "stdout",
          "output_type": "stream",
          "text": [
            "Model: \"sequential\"\n",
            "_________________________________________________________________\n",
            " Layer (type)                Output Shape              Param #   \n",
            "=================================================================\n",
            " conv2d (Conv2D)             (None, 32, 32, 32)        896       \n",
            "                                                                 \n",
            " dropout (Dropout)           (None, 32, 32, 32)        0         \n",
            "                                                                 \n",
            " batch_normalization (BatchN  (None, 32, 32, 32)       128       \n",
            " ormalization)                                                   \n",
            "                                                                 \n",
            " conv2d_1 (Conv2D)           (None, 32, 32, 64)        18496     \n",
            "                                                                 \n",
            " max_pooling2d (MaxPooling2D  (None, 16, 16, 64)       0         \n",
            " )                                                               \n",
            "                                                                 \n",
            " dropout_1 (Dropout)         (None, 16, 16, 64)        0         \n",
            "                                                                 \n",
            " batch_normalization_1 (Batc  (None, 16, 16, 64)       256       \n",
            " hNormalization)                                                 \n",
            "                                                                 \n",
            " conv2d_2 (Conv2D)           (None, 16, 16, 64)        36928     \n",
            "                                                                 \n",
            " max_pooling2d_1 (MaxPooling  (None, 8, 8, 64)         0         \n",
            " 2D)                                                             \n",
            "                                                                 \n",
            " dropout_2 (Dropout)         (None, 8, 8, 64)          0         \n",
            "                                                                 \n",
            " batch_normalization_2 (Batc  (None, 8, 8, 64)         256       \n",
            " hNormalization)                                                 \n",
            "                                                                 \n",
            " conv2d_3 (Conv2D)           (None, 8, 8, 128)         73856     \n",
            "                                                                 \n",
            " dropout_3 (Dropout)         (None, 8, 8, 128)         0         \n",
            "                                                                 \n",
            " batch_normalization_3 (Batc  (None, 8, 8, 128)        512       \n",
            " hNormalization)                                                 \n",
            "                                                                 \n",
            " flatten (Flatten)           (None, 8192)              0         \n",
            "                                                                 \n",
            " dropout_4 (Dropout)         (None, 8192)              0         \n",
            "                                                                 \n",
            " dense (Dense)               (None, 32)                262176    \n",
            "                                                                 \n",
            " dropout_5 (Dropout)         (None, 32)                0         \n",
            "                                                                 \n",
            " batch_normalization_4 (Batc  (None, 32)               128       \n",
            " hNormalization)                                                 \n",
            "                                                                 \n",
            " dense_1 (Dense)             (None, 10)                330       \n",
            "                                                                 \n",
            "=================================================================\n",
            "Total params: 393,962\n",
            "Trainable params: 393,322\n",
            "Non-trainable params: 640\n",
            "_________________________________________________________________\n",
            "None\n"
          ]
        }
      ],
      "source": [
        "model.add(keras.layers.Conv2D(32, 3, input_shape=(32, 32, 3), activation='relu', padding='same'))\n",
        "model.add(keras.layers.Dropout(0.2))\n",
        "model.add(keras.layers.BatchNormalization())\n",
        "\n",
        "model.add(keras.layers.Conv2D(64, (3, 3), padding='same', activation='relu'))\n",
        "model.add(keras.layers.MaxPooling2D(2))\n",
        "model.add(keras.layers.Dropout(0.2))\n",
        "model.add(keras.layers.BatchNormalization())\n",
        "\n",
        "model.add(keras.layers.Conv2D(64, 3, padding='same', activation='relu'))\n",
        "model.add(keras.layers.MaxPooling2D(2))\n",
        "model.add(keras.layers.Dropout(0.2))\n",
        "model.add(keras.layers.BatchNormalization())\n",
        "    \n",
        "model.add(keras.layers.Conv2D(128, (3, 3), padding='same', activation='relu'))\n",
        "model.add(keras.layers.Dropout(0.2))\n",
        "model.add(keras.layers.BatchNormalization())\n",
        "\n",
        "model.add(keras.layers.Flatten())\n",
        "model.add(keras.layers.Dropout(0.2))\n",
        "model.add(keras.layers.Dense(32, activation='relu'))\n",
        "model.add(keras.layers.Dropout(0.3))\n",
        "model.add(keras.layers.BatchNormalization())\n",
        "\n",
        "model.add(keras.layers.Dense(class_num, activation='softmax'))\n",
        "\n",
        "model.compile(loss='categorical_crossentropy', optimizer='adam', metrics=['accuracy'])\n",
        "\n",
        "print(model.summary())"
      ]
    },
    {
      "cell_type": "code",
      "execution_count": null,
      "metadata": {
        "colab": {
          "background_save": true,
          "base_uri": "https://localhost:8080/"
        },
        "id": "xvyAZNjDoFED",
        "outputId": "1c93ef20-f62b-448a-9b6e-154acdb67a12"
      },
      "outputs": [
        {
          "name": "stdout",
          "output_type": "stream",
          "text": [
            "Epoch 1/25\n",
            "782/782 [==============================] - 358s 455ms/step - loss: 1.5580 - accuracy: 0.4473 - val_loss: 1.1479 - val_accuracy: 0.5896\n",
            "Epoch 2/25\n",
            "782/782 [==============================] - 347s 443ms/step - loss: 1.1149 - accuracy: 0.6097 - val_loss: 0.9357 - val_accuracy: 0.6611\n",
            "Epoch 3/25\n",
            "782/782 [==============================] - 351s 449ms/step - loss: 0.9590 - accuracy: 0.6679 - val_loss: 0.8060 - val_accuracy: 0.7178\n",
            "Epoch 4/25\n",
            "782/782 [==============================] - 353s 452ms/step - loss: 0.8740 - accuracy: 0.6980 - val_loss: 0.8086 - val_accuracy: 0.7138\n",
            "Epoch 5/25\n",
            "782/782 [==============================] - 376s 480ms/step - loss: 0.8149 - accuracy: 0.7201 - val_loss: 0.6927 - val_accuracy: 0.7545\n",
            "Epoch 6/25\n",
            "782/782 [==============================] - 405s 518ms/step - loss: 0.7618 - accuracy: 0.7378 - val_loss: 0.7311 - val_accuracy: 0.7489\n",
            "Epoch 7/25\n",
            "782/782 [==============================] - 413s 528ms/step - loss: 0.7284 - accuracy: 0.7493 - val_loss: 0.6366 - val_accuracy: 0.7758\n",
            "Epoch 8/25\n",
            "782/782 [==============================] - 415s 531ms/step - loss: 0.6960 - accuracy: 0.7587 - val_loss: 0.6262 - val_accuracy: 0.7848\n",
            "Epoch 9/25\n",
            "782/782 [==============================] - 418s 534ms/step - loss: 0.6628 - accuracy: 0.7699 - val_loss: 0.5936 - val_accuracy: 0.7958\n",
            "Epoch 10/25\n",
            "782/782 [==============================] - 413s 528ms/step - loss: 0.6377 - accuracy: 0.7791 - val_loss: 0.6802 - val_accuracy: 0.7730\n",
            "Epoch 11/25\n",
            "782/782 [==============================] - 411s 525ms/step - loss: 0.6248 - accuracy: 0.7849 - val_loss: 0.6025 - val_accuracy: 0.7940\n",
            "Epoch 12/25\n",
            "782/782 [==============================] - 405s 518ms/step - loss: 0.6003 - accuracy: 0.7936 - val_loss: 0.5708 - val_accuracy: 0.8063\n",
            "Epoch 13/25\n",
            "782/782 [==============================] - 408s 522ms/step - loss: 0.5918 - accuracy: 0.7934 - val_loss: 0.5504 - val_accuracy: 0.8103\n",
            "Epoch 14/25\n",
            "782/782 [==============================] - 407s 520ms/step - loss: 0.5711 - accuracy: 0.8019 - val_loss: 0.5959 - val_accuracy: 0.8007\n",
            "Epoch 15/25\n",
            "782/782 [==============================] - 407s 521ms/step - loss: 0.5567 - accuracy: 0.8059 - val_loss: 0.6220 - val_accuracy: 0.7941\n",
            "Epoch 16/25\n",
            "782/782 [==============================] - 408s 522ms/step - loss: 0.5440 - accuracy: 0.8111 - val_loss: 0.5609 - val_accuracy: 0.8120\n",
            "Epoch 17/25\n",
            "782/782 [==============================] - 408s 521ms/step - loss: 0.5361 - accuracy: 0.8115 - val_loss: 0.5451 - val_accuracy: 0.8164\n",
            "Epoch 18/25\n",
            "782/782 [==============================] - 410s 524ms/step - loss: 0.5218 - accuracy: 0.8208 - val_loss: 0.5411 - val_accuracy: 0.8141\n",
            "Epoch 19/25\n",
            "782/782 [==============================] - 401s 512ms/step - loss: 0.5180 - accuracy: 0.8183 - val_loss: 0.5382 - val_accuracy: 0.8180\n",
            "Epoch 20/25\n",
            "782/782 [==============================] - 398s 509ms/step - loss: 0.5098 - accuracy: 0.8227 - val_loss: 0.5175 - val_accuracy: 0.8298\n",
            "Epoch 21/25\n",
            "782/782 [==============================] - 403s 516ms/step - loss: 0.5032 - accuracy: 0.8247 - val_loss: 0.5388 - val_accuracy: 0.8203\n",
            "Epoch 22/25\n",
            "782/782 [==============================] - 408s 521ms/step - loss: 0.4882 - accuracy: 0.8303 - val_loss: 0.5200 - val_accuracy: 0.8313\n",
            "Epoch 23/25\n",
            "782/782 [==============================] - 412s 527ms/step - loss: 0.4775 - accuracy: 0.8333 - val_loss: 0.5109 - val_accuracy: 0.8326\n",
            "Epoch 24/25\n",
            "782/782 [==============================] - 412s 527ms/step - loss: 0.4747 - accuracy: 0.8329 - val_loss: 0.5201 - val_accuracy: 0.8260\n",
            "Epoch 25/25\n",
            "782/782 [==============================] - 419s 536ms/step - loss: 0.4669 - accuracy: 0.8361 - val_loss: 0.5204 - val_accuracy: 0.8273\n"
          ]
        }
      ],
      "source": [
        "numpy.random.seed(seed)\n",
        "history = model.fit(X_train, y_train, validation_data=(X_test, y_test), epochs=25, batch_size=64)"
      ]
    },
    {
      "cell_type": "code",
      "execution_count": null,
      "metadata": {
        "id": "Y_yBOPvCoH26"
      },
      "outputs": [],
      "source": [
        "model.evaluate(X_test, y_test, verbose=0)"
      ]
    },
    {
      "cell_type": "code",
      "execution_count": null,
      "metadata": {
        "colab": {
          "background_save": true
        },
        "id": "umQLQahqoKbi",
        "outputId": "07fbfc2c-97c9-4ac5-8058-660ac9d8d44f"
      },
      "outputs": [
        {
          "data": {
            "image/png": "[encoded data removed]",
            "text/plain": [
              "<Figure size 432x288 with 1 Axes>"
            ]
          },
          "metadata": {
            "image/png": {
              "height": 249,
              "width": 375
            }
          },
          "output_type": "display_data"
        }
      ],
      "source": [
        "import pandas as pd\n",
        "import matplotlib.pyplot as plt\n",
        "\n",
        "pd.DataFrame(history.history).plot()\n",
        "plt.show()"
      ]
    },
    {
      "cell_type": "code",
      "execution_count": null,
      "metadata": {
        "id": "1IwzdqRjvi0z"
      },
      "outputs": [],
      "source": [
        "model.save(\"model.h5\")\n",
        "print(\"Saved model to disk\")"
      ]
    },
    {
      "cell_type": "markdown",
      "source": [
        "## Results of the Model\n",
        "\n",
        "Model scored 82.73% accuracy in recognizing pictures from CIFAR-10 data-set. "
      ],
      "metadata": {
        "id": "meRPcl0SsNht"
      }
    },
    {
      "cell_type": "code",
      "execution_count": 12,
      "metadata": {
        "id": "wv3jEe4-wOA-",
        "colab": {
          "base_uri": "https://localhost:8080/"
        },
        "outputId": "c3c41a01-11b9-44b5-af19-f6bc32af9b1e"
      },
      "outputs": [
        {
          "output_type": "stream",
          "name": "stdout",
          "text": [
            "Model: \"sequential\"\n",
            "_________________________________________________________________\n",
            " Layer (type)                Output Shape              Param #   \n",
            "=================================================================\n",
            " conv2d (Conv2D)             (None, 32, 32, 32)        896       \n",
            "                                                                 \n",
            " dropout (Dropout)           (None, 32, 32, 32)        0         \n",
            "                                                                 \n",
            " batch_normalization (BatchN  (None, 32, 32, 32)       128       \n",
            " ormalization)                                                   \n",
            "                                                                 \n",
            " conv2d_1 (Conv2D)           (None, 32, 32, 64)        18496     \n",
            "                                                                 \n",
            " max_pooling2d (MaxPooling2D  (None, 16, 16, 64)       0         \n",
            " )                                                               \n",
            "                                                                 \n",
            " dropout_1 (Dropout)         (None, 16, 16, 64)        0         \n",
            "                                                                 \n",
            " batch_normalization_1 (Batc  (None, 16, 16, 64)       256       \n",
            " hNormalization)                                                 \n",
            "                                                                 \n",
            " conv2d_2 (Conv2D)           (None, 16, 16, 64)        36928     \n",
            "                                                                 \n",
            " max_pooling2d_1 (MaxPooling  (None, 8, 8, 64)         0         \n",
            " 2D)                                                             \n",
            "                                                                 \n",
            " dropout_2 (Dropout)         (None, 8, 8, 64)          0         \n",
            "                                                                 \n",
            " batch_normalization_2 (Batc  (None, 8, 8, 64)         256       \n",
            " hNormalization)                                                 \n",
            "                                                                 \n",
            " conv2d_3 (Conv2D)           (None, 8, 8, 128)         73856     \n",
            "                                                                 \n",
            " dropout_3 (Dropout)         (None, 8, 8, 128)         0         \n",
            "                                                                 \n",
            " batch_normalization_3 (Batc  (None, 8, 8, 128)        512       \n",
            " hNormalization)                                                 \n",
            "                                                                 \n",
            " flatten (Flatten)           (None, 8192)              0         \n",
            "                                                                 \n",
            " dropout_4 (Dropout)         (None, 8192)              0         \n",
            "                                                                 \n",
            " dense (Dense)               (None, 32)                262176    \n",
            "                                                                 \n",
            " dropout_5 (Dropout)         (None, 32)                0         \n",
            "                                                                 \n",
            " batch_normalization_4 (Batc  (None, 32)               128       \n",
            " hNormalization)                                                 \n",
            "                                                                 \n",
            " dense_1 (Dense)             (None, 10)                330       \n",
            "                                                                 \n",
            "=================================================================\n",
            "Total params: 393,962\n",
            "Trainable params: 393,322\n",
            "Non-trainable params: 640\n",
            "_________________________________________________________________\n",
            "accuracy: 82.73%\n"
          ]
        }
      ],
      "source": [
        "\n",
        "# load and evaluate a saved model\n",
        "from numpy import loadtxt\n",
        "from keras.models import load_model\n",
        " \n",
        "# load model\n",
        "model = load_model('model.h5')\n",
        "# summarize model.\n",
        "model.summary()\n",
        "# evaluate the model\n",
        "score = model.evaluate(X_test, y_test, verbose=0)\n",
        "print(\"%s: %.2f%%\" % (model.metrics_names[1], score[1]*100))"
      ]
    },
    {
      "cell_type": "markdown",
      "source": [
        "# Generate Documentation"
      ],
      "metadata": {
        "id": "03abBpA7oNH0"
      }
    },
    {
      "cell_type": "code",
      "source": [
        "\n",
        "!wget -nc https://raw.githubusercontent.com/brpy/colab-pdf/master/colab_pdf.py\n",
        "from colab_pdf import colab_pdf\n",
        "colab_pdf('Cifar10.ipynb')"
      ],
      "metadata": {
        "colab": {
          "base_uri": "https://localhost:8080/",
          "height": 382
        },
        "id": "inu3Rwtmnx82",
        "outputId": "a6d76c8f-ba62-4835-8938-57a2bd2561a8"
      },
      "execution_count": 20,
      "outputs": [
        {
          "output_type": "stream",
          "name": "stdout",
          "text": [
            "File ‘colab_pdf.py’ already there; not retrieving.\n",
            "\n",
            "\n",
            "WARNING: apt does not have a stable CLI interface. Use with caution in scripts.\n",
            "\n",
            "\n",
            "WARNING: apt does not have a stable CLI interface. Use with caution in scripts.\n",
            "\n",
            "[NbConvertApp] Converting notebook /content/drive/MyDrive/Colab Notebooks/Cifar10.ipynb to pdf\n",
            "[NbConvertApp] Support files will be in Cifar10_files/\n",
            "[NbConvertApp] Making directory ./Cifar10_files\n",
            "[NbConvertApp] Making directory ./Cifar10_files\n",
            "[NbConvertApp] Writing 53642 bytes to ./notebook.tex\n",
            "[NbConvertApp] Building PDF\n",
            "[NbConvertApp] Running xelatex 3 times: [u'xelatex', u'./notebook.tex', '-quiet']\n",
            "[NbConvertApp] Running bibtex 1 time: [u'bibtex', u'./notebook']\n",
            "[NbConvertApp] WARNING | bibtex had problems, most likely because there were no citations\n",
            "[NbConvertApp] PDF successfully created\n",
            "[NbConvertApp] Writing 99754 bytes to /content/drive/My Drive/Cifar10.pdf\n"
          ]
        },
        {
          "output_type": "display_data",
          "data": {
            "application/javascript": [
              "\n",
              "    async function download(id, filename, size) {\n",
              "      if (!google.colab.kernel.accessAllowed) {\n",
              "        return;\n",
              "      }\n",
              "      const div = document.createElement('div');\n",
              "      const label = document.createElement('label');\n",
              "      label.textContent = `Downloading \"${filename}\": `;\n",
              "      div.appendChild(label);\n",
              "      const progress = document.createElement('progress');\n",
              "      progress.max = size;\n",
              "      div.appendChild(progress);\n",
              "      document.body.appendChild(div);\n",
              "\n",
              "      const buffers = [];\n",
              "      let downloaded = 0;\n",
              "\n",
              "      const channel = await google.colab.kernel.comms.open(id);\n",
              "      // Send a message to notify the kernel that we're ready.\n",
              "      channel.send({})\n",
              "\n",
              "      for await (const message of channel.messages) {\n",
              "        // Send a message to notify the kernel that we're ready.\n",
              "        channel.send({})\n",
              "        if (message.buffers) {\n",
              "          for (const buffer of message.buffers) {\n",
              "            buffers.push(buffer);\n",
              "            downloaded += buffer.byteLength;\n",
              "            progress.value = downloaded;\n",
              "          }\n",
              "        }\n",
              "      }\n",
              "      const blob = new Blob(buffers, {type: 'application/binary'});\n",
              "      const a = document.createElement('a');\n",
              "      a.href = window.URL.createObjectURL(blob);\n",
              "      a.download = filename;\n",
              "      div.appendChild(a);\n",
              "      a.click();\n",
              "      div.remove();\n",
              "    }\n",
              "  "
            ],
            "text/plain": [
              "<IPython.core.display.Javascript object>"
            ]
          },
          "metadata": {}
        },
        {
          "output_type": "display_data",
          "data": {
            "application/javascript": [
              "download(\"download_6a2ccd8a-ae79-4715-9b71-a881c36a8124\", \"Cifar10.pdf\", 99754)"
            ],
            "text/plain": [
              "<IPython.core.display.Javascript object>"
            ]
          },
          "metadata": {}
        },
        {
          "output_type": "execute_result",
          "data": {
            "application/vnd.google.colaboratory.intrinsic+json": {
              "type": "string"
            },
            "text/plain": [
              "'File ready to be Downloaded and Saved to Drive'"
            ]
          },
          "metadata": {},
          "execution_count": 20
        }
      ]
    },
    {
      "cell_type": "code",
      "source": [
        ""
      ],
      "metadata": {
        "id": "Ebjed9JCr2Re"
      },
      "execution_count": null,
      "outputs": []
    },
    {
      "cell_type": "code",
      "source": [
        ""
      ],
      "metadata": {
        "id": "SFPjbkCDob_g"
      },
      "execution_count": null,
      "outputs": []
    }
  ],
  "metadata": {
    "colab": {
      "name": "Cifar10.ipynb",
      "provenance": [],
      "collapsed_sections": []
    },
    "kernelspec": {
      "display_name": "Python 3",
      "name": "python3"
    },
    "language_info": {
      "name": "python"
    }
  },
  "nbformat": 4,
  "nbformat_minor": 0
}